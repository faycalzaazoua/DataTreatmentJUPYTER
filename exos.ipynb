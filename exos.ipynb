{
 "cells": [
  {
   "cell_type": "code",
   "execution_count": 3,
   "metadata": {
    "id": "6WcMvdRo5pbi"
   },
   "outputs": [
    {
     "name": "stdout",
     "output_type": "stream",
     "text": [
      "Entrez un premier nombre : 3\n",
      "Entrez un deuxième nombre : -5\n",
      "le produit est négatif\n"
     ]
    }
   ],
   "source": [
    "# exo2_1\n",
    "a = int(input('Entrez un premier nombre : '))\n",
    "b = int(input('Entrez un deuxième nombre : '))\n",
    "if a>0 and b>0:\n",
    "    print (\"le produit est positif\")\n",
    "elif a<0 and b<0:\n",
    "    print (\"le produit est positif\")\n",
    "else:\n",
    "    print (\"le produit est négatif\")"
   ]
  },
  {
   "cell_type": "code",
   "execution_count": 4,
   "metadata": {
    "id": "uBqGFeB95qxY"
   },
   "outputs": [
    {
     "name": "stdout",
     "output_type": "stream",
     "text": [
      "la somme de tout les elements du tableau est égale à  23\n"
     ]
    }
   ],
   "source": [
    "# exo2_3\n",
    "tab = [0, 1, 2, 3, 8, 9]\n",
    "j=0\n",
    "for i in tab:\n",
    "    j=j+i\n",
    "\n",
    "print(\"la somme de tout les elements du tableau est égale à \", j)"
   ]
  },
  {
   "cell_type": "code",
   "execution_count": 5,
   "metadata": {
    "id": "arUHB1qk7AZq"
   },
   "outputs": [
    {
     "name": "stdout",
     "output_type": "stream",
     "text": [
      "Entrez un nombre : 5\n",
      "15\n"
     ]
    }
   ],
   "source": [
    "# exo2_2\n",
    "a = int(input('Entrez un nombre : '))\n",
    "a=a+1\n",
    "i = 1\n",
    "j=0\n",
    "for i in range(a):\n",
    "    j=j+i\n",
    "\n",
    "print (j)\n"
   ]
  },
  {
   "cell_type": "code",
   "execution_count": 4,
   "metadata": {
    "id": "TkHR9NuZ7Fre"
   },
   "outputs": [
    {
     "name": "stdout",
     "output_type": "stream",
     "text": [
      "159\n",
      "[0, 1, 4, 9, 64, 81]\n"
     ]
    }
   ],
   "source": [
    "# exo2_4\n",
    "tab1 = [0, 1, 2, 3, 8, 9]\n",
    "tab2 = [0, 1, 2, 3, 8, 9]\n",
    "tab3 = []\n",
    "\n",
    "j=0\n",
    "for i in range(int(str(len(tab1)))):\n",
    "    tab3.append(tab1[i] * tab2[i])\n",
    "    j=j+tab3[i]\n",
    "\n",
    "print (j)\n",
    "print (tab3)"
   ]
  },
  {
   "cell_type": "code",
   "execution_count": 1,
   "metadata": {
    "id": "iXb6TB1T7IiI"
   },
   "outputs": [
    {
     "name": "stdout",
     "output_type": "stream",
     "text": [
      "Voulez vous ajouter un nombre ? 'y' pour oui - 'n' pour non : y\n",
      "Ajouter une valeur au tableau : 3\n",
      "Voulez vous ajouter un nombre ? 'y' pour oui - 'n' pour non : y\n",
      "Ajouter une valeur au tableau : 8\n",
      "Voulez vous ajouter un nombre ? 'y' pour oui - 'n' pour non : y\n",
      "Ajouter une valeur au tableau : 90\n",
      "Voulez vous ajouter un nombre ? 'y' pour oui - 'n' pour non : y\n",
      "Ajouter une valeur au tableau : 12\n",
      "Voulez vous ajouter un nombre ? 'y' pour oui - 'n' pour non : y\n",
      "Ajouter une valeur au tableau : 45\n",
      "Voulez vous ajouter un nombre ? 'y' pour oui - 'n' pour non : n\n",
      "90 a la position 2\n",
      "[3, 8, 90, 12, 45]\n"
     ]
    }
   ],
   "source": [
    "tab = []\n",
    "a = 0\n",
    "j=0\n",
    "q = input (\"Voulez vous ajouter un nombre ? 'y' pour oui - 'n' pour non : \")\n",
    "if q==\"y\":\n",
    "    while q==\"y\":\n",
    "    \n",
    "        a = int(input(\"Ajouter une valeur au tableau : \"))\n",
    "        tab.append(a)\n",
    "        \n",
    "        if a>j:\n",
    "            j = a\n",
    "            p = len(tab)-1\n",
    "        q = input (\"Voulez vous ajouter un nombre ? 'y' pour oui - 'n' pour non : \")\n",
    "    print (j, \"a la position\", p)\n",
    "    print(tab)\n",
    "else:\n",
    "    print(\"jeu terminé !\")"
   ]
  },
  {
   "cell_type": "code",
   "execution_count": null,
   "metadata": {},
   "outputs": [],
   "source": []
  }
 ],
 "metadata": {
  "colab": {
   "authorship_tag": "ABX9TyO8CFoUKV0nUvXAIAqkzQ+v",
   "collapsed_sections": [],
   "provenance": []
  },
  "kernelspec": {
   "display_name": "Python 3 (ipykernel)",
   "language": "python",
   "name": "python3"
  },
  "language_info": {
   "codemirror_mode": {
    "name": "ipython",
    "version": 3
   },
   "file_extension": ".py",
   "mimetype": "text/x-python",
   "name": "python",
   "nbconvert_exporter": "python",
   "pygments_lexer": "ipython3",
   "version": "3.9.12"
  },
  "vscode": {
   "interpreter": {
    "hash": "31f2aee4e71d21fbe5cf8b01ff0e069b9275f58929596ceb00d14d90e3e16cd6"
   }
  }
 },
 "nbformat": 4,
 "nbformat_minor": 1
}
